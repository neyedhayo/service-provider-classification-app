{
 "cells": [
  {
   "cell_type": "code",
   "execution_count": 2,
   "metadata": {},
   "outputs": [],
   "source": [
    "# data preprocessing library\n",
    "import pandas as pd\n",
    "import numpy as np\n",
    "\n",
    "# visualization\n",
    "import matplotlib.pyplot as plt\n",
    "\n",
    "# labelling library\n",
    "import re"
   ]
  },
  {
   "cell_type": "code",
   "execution_count": 3,
   "metadata": {},
   "outputs": [],
   "source": [
    "filepath = '../../data/raw/mobile_nos.csv'"
   ]
  },
  {
   "cell_type": "code",
   "execution_count": 4,
   "metadata": {},
   "outputs": [],
   "source": [
    "mobiledata = pd.read_csv(filepath)"
   ]
  },
  {
   "cell_type": "code",
   "execution_count": 5,
   "metadata": {},
   "outputs": [
    {
     "data": {
      "text/html": [
       "<div>\n",
       "<style scoped>\n",
       "    .dataframe tbody tr th:only-of-type {\n",
       "        vertical-align: middle;\n",
       "    }\n",
       "\n",
       "    .dataframe tbody tr th {\n",
       "        vertical-align: top;\n",
       "    }\n",
       "\n",
       "    .dataframe thead th {\n",
       "        text-align: right;\n",
       "    }\n",
       "</style>\n",
       "<table border=\"1\" class=\"dataframe\">\n",
       "  <thead>\n",
       "    <tr style=\"text-align: right;\">\n",
       "      <th></th>\n",
       "      <th>label_no</th>\n",
       "      <th>name</th>\n",
       "      <th>biller_category_id</th>\n",
       "    </tr>\n",
       "  </thead>\n",
       "  <tbody>\n",
       "    <tr>\n",
       "      <th>0</th>\n",
       "      <td>08059224942</td>\n",
       "      <td>Top up                                        ...</td>\n",
       "      <td>25</td>\n",
       "    </tr>\n",
       "    <tr>\n",
       "      <th>1</th>\n",
       "      <td>08142358593</td>\n",
       "      <td>MTN Top up                                    ...</td>\n",
       "      <td>25</td>\n",
       "    </tr>\n",
       "    <tr>\n",
       "      <th>2</th>\n",
       "      <td>08142358593</td>\n",
       "      <td>MTN Top up                                    ...</td>\n",
       "      <td>25</td>\n",
       "    </tr>\n",
       "    <tr>\n",
       "      <th>3</th>\n",
       "      <td>08148252331</td>\n",
       "      <td>MTN Top up                                    ...</td>\n",
       "      <td>25</td>\n",
       "    </tr>\n",
       "    <tr>\n",
       "      <th>4</th>\n",
       "      <td>08142358593</td>\n",
       "      <td>MTN Top up                                    ...</td>\n",
       "      <td>25</td>\n",
       "    </tr>\n",
       "    <tr>\n",
       "      <th>...</th>\n",
       "      <td>...</td>\n",
       "      <td>...</td>\n",
       "      <td>...</td>\n",
       "    </tr>\n",
       "    <tr>\n",
       "      <th>23602</th>\n",
       "      <td>08034268185</td>\n",
       "      <td>MTN VTU 100                                   ...</td>\n",
       "      <td>25</td>\n",
       "    </tr>\n",
       "    <tr>\n",
       "      <th>23603</th>\n",
       "      <td>08064995656</td>\n",
       "      <td>MTN VTU 100                                   ...</td>\n",
       "      <td>25</td>\n",
       "    </tr>\n",
       "    <tr>\n",
       "      <th>23604</th>\n",
       "      <td>08058595159</td>\n",
       "      <td>GLO 500                                       ...</td>\n",
       "      <td>25</td>\n",
       "    </tr>\n",
       "    <tr>\n",
       "      <th>23605</th>\n",
       "      <td>07039069136</td>\n",
       "      <td>MTN VTU 100                                   ...</td>\n",
       "      <td>25</td>\n",
       "    </tr>\n",
       "    <tr>\n",
       "      <th>23606</th>\n",
       "      <td>09078754424</td>\n",
       "      <td>Top up with 100                               ...</td>\n",
       "      <td>25</td>\n",
       "    </tr>\n",
       "  </tbody>\n",
       "</table>\n",
       "<p>23607 rows × 3 columns</p>\n",
       "</div>"
      ],
      "text/plain": [
       "       label_no        \\\n",
       "0      08059224942      \n",
       "1      08142358593      \n",
       "2      08142358593      \n",
       "3      08148252331      \n",
       "4      08142358593      \n",
       "...               ...   \n",
       "23602  08034268185      \n",
       "23603  08064995656      \n",
       "23604  08058595159      \n",
       "23605  07039069136      \n",
       "23606  09078754424      \n",
       "\n",
       "      name                                                                             \\\n",
       "0      Top up                                        ...                                \n",
       "1      MTN Top up                                    ...                                \n",
       "2      MTN Top up                                    ...                                \n",
       "3      MTN Top up                                    ...                                \n",
       "4      MTN Top up                                    ...                                \n",
       "...                                                  ...                                \n",
       "23602  MTN VTU 100                                   ...                                \n",
       "23603  MTN VTU 100                                   ...                                \n",
       "23604  GLO 500                                       ...                                \n",
       "23605  MTN VTU 100                                   ...                                \n",
       "23606  Top up with 100                               ...                                \n",
       "\n",
       "       biller_category_id  \n",
       "0                      25  \n",
       "1                      25  \n",
       "2                      25  \n",
       "3                      25  \n",
       "4                      25  \n",
       "...                   ...  \n",
       "23602                  25  \n",
       "23603                  25  \n",
       "23604                  25  \n",
       "23605                  25  \n",
       "23606                  25  \n",
       "\n",
       "[23607 rows x 3 columns]"
      ]
     },
     "execution_count": 5,
     "metadata": {},
     "output_type": "execute_result"
    }
   ],
   "source": [
    "mobiledata"
   ]
  },
  {
   "cell_type": "code",
   "execution_count": 6,
   "metadata": {},
   "outputs": [],
   "source": [
    "# mobiledata.rename(columns={'label_no      ': 'label_no', 'name                                                                           ': 'name'}, inplace=True)"
   ]
  },
  {
   "cell_type": "code",
   "execution_count": 7,
   "metadata": {},
   "outputs": [
    {
     "data": {
      "text/plain": [
       "Index(['label_no', 'name', 'biller_category_id'], dtype='object')"
      ]
     },
     "execution_count": 7,
     "metadata": {},
     "output_type": "execute_result"
    }
   ],
   "source": [
    "mobiledata.columns"
   ]
  },
  {
   "cell_type": "code",
   "execution_count": 8,
   "metadata": {},
   "outputs": [
    {
     "data": {
      "text/plain": [
       "150"
      ]
     },
     "execution_count": 8,
     "metadata": {},
     "output_type": "execute_result"
    }
   ],
   "source": [
    "mobiledata.name.nunique()"
   ]
  },
  {
   "cell_type": "code",
   "execution_count": 9,
   "metadata": {},
   "outputs": [],
   "source": [
    "# Define a function to check and update service providers based on phone number patterns\n",
    "def mtn_phone_number_label(row):\n",
    "    phone_number = str(row['label_no'])\n",
    "    if phone_number.startswith(('0702', '0703', '0706', '0803', '0806', '0704', '0810', '0813', '0814', '0816', '0903', '0906', '0913', '0916')):\n",
    "        return 'MTN'\n",
    "    return row['name']\n",
    "\n",
    "# Apply the mtn_phone_number_label function to the DataFrame\n",
    "mobiledata['name'] = mobiledata.apply(mtn_phone_number_label, axis=1)"
   ]
  },
  {
   "cell_type": "code",
   "execution_count": 10,
   "metadata": {},
   "outputs": [
    {
     "data": {
      "text/plain": [
       "118"
      ]
     },
     "execution_count": 10,
     "metadata": {},
     "output_type": "execute_result"
    }
   ],
   "source": [
    "mobiledata.name.nunique()"
   ]
  },
  {
   "cell_type": "code",
   "execution_count": 11,
   "metadata": {},
   "outputs": [],
   "source": [
    "# Define a function to check and update service providers based on phone number patterns\n",
    "def glo_phone_number_label(row):\n",
    "    phone_number = str(row['label_no'])\n",
    "    if phone_number.startswith(('0705', '0801', '0805', '0807', '0814', '0811', '0815', '0905', '0915')):\n",
    "        return 'GLO'\n",
    "    return row['name']\n",
    "\n",
    "# Apply the mtn_phone_number_label function to the DataFrame\n",
    "mobiledata['name'] = mobiledata.apply(glo_phone_number_label, axis=1)"
   ]
  },
  {
   "cell_type": "code",
   "execution_count": 12,
   "metadata": {},
   "outputs": [
    {
     "data": {
      "text/plain": [
       "95"
      ]
     },
     "execution_count": 12,
     "metadata": {},
     "output_type": "execute_result"
    }
   ],
   "source": [
    "mobiledata.name.nunique()"
   ]
  },
  {
   "cell_type": "code",
   "execution_count": 13,
   "metadata": {},
   "outputs": [],
   "source": [
    "# Define a function to check and update service providers based on phone number patterns\n",
    "def airtel_phone_number_label_2(row):\n",
    "    phone_number = str(row['label_no'])\n",
    "    if phone_number.startswith(('0808', '0907')):\n",
    "        return 'AIRTEL'\n",
    "    return row['name']\n",
    "\n",
    "# Apply the mtn_phone_number_label function to the DataFrame\n",
    "mobiledata['name'] = mobiledata.apply(airtel_phone_number_label_2, axis=1)"
   ]
  },
  {
   "cell_type": "code",
   "execution_count": 14,
   "metadata": {},
   "outputs": [
    {
     "data": {
      "text/plain": [
       "90"
      ]
     },
     "execution_count": 14,
     "metadata": {},
     "output_type": "execute_result"
    }
   ],
   "source": [
    "mobiledata.name.nunique()"
   ]
  },
  {
   "cell_type": "code",
   "execution_count": null,
   "metadata": {},
   "outputs": [],
   "source": []
  },
  {
   "cell_type": "code",
   "execution_count": 15,
   "metadata": {},
   "outputs": [],
   "source": [
    "# Define a function to check and update service providers based on phone number patterns\n",
    "def airtel_phone_number_label(row):\n",
    "    phone_number = str(row['label_no'])\n",
    "    if phone_number.startswith(('0701', '0708', '0802', '0808', '0812', '0901', '0902', '0904', '0907', '0911','0912')):\n",
    "        return 'AIRTEL'\n",
    "    return row['name']\n",
    "\n",
    "# Apply the mtn_phone_number_label function to the DataFrame\n",
    "mobiledata['name'] = mobiledata.apply(airtel_phone_number_label, axis=1)"
   ]
  },
  {
   "cell_type": "code",
   "execution_count": 16,
   "metadata": {},
   "outputs": [
    {
     "data": {
      "text/plain": [
       "73"
      ]
     },
     "execution_count": 16,
     "metadata": {},
     "output_type": "execute_result"
    }
   ],
   "source": [
    "mobiledata.name.nunique()"
   ]
  },
  {
   "cell_type": "code",
   "execution_count": 17,
   "metadata": {},
   "outputs": [],
   "source": [
    "# Define a function to check and update service providers based on phone number patterns\n",
    "def ninemobile_phone_number_label(row):\n",
    "    phone_number = str(row['label_no'])\n",
    "    if phone_number.startswith(('0809','0817', '0818', '0908', '0909')):\n",
    "        return '9MOBILE'\n",
    "    return row['name']\n",
    "\n",
    "# Apply the mtn_phone_number_label function to the DataFrame\n",
    "mobiledata['name'] = mobiledata.apply(ninemobile_phone_number_label, axis=1)"
   ]
  },
  {
   "cell_type": "code",
   "execution_count": 18,
   "metadata": {},
   "outputs": [],
   "source": [
    "# Define a function to correct the third character of phone numbers\n",
    "def correct_third_character(phone_number):\n",
    "    if len(phone_number) == 11 and phone_number[2] == '8':\n",
    "        corrected_number = phone_number[:2] + '0' + phone_number[3:]\n",
    "        return corrected_number\n",
    "    return phone_number\n",
    "\n",
    "# Apply the function to the 'PhoneNumber' column\n",
    "mobiledata['label_no'] = mobiledata['label_no'].apply(correct_third_character)"
   ]
  },
  {
   "cell_type": "code",
   "execution_count": 19,
   "metadata": {},
   "outputs": [],
   "source": [
    "# Define a function to correct phone numbers\n",
    "def correct_phone_number(phone_number):\n",
    "    if phone_number.startswith('7') and len(phone_number) == 10:\n",
    "        return '0' + phone_number\n",
    "    elif phone_number.startswith('9') and len(phone_number) == 10:\n",
    "        return '0' + phone_number\n",
    "    return phone_number\n",
    "\n",
    "# Apply the function to the 'PhoneNumber' column\n",
    "mobiledata['label_no'] = mobiledata['label_no'].apply(correct_phone_number)"
   ]
  },
  {
   "cell_type": "code",
   "execution_count": 20,
   "metadata": {},
   "outputs": [],
   "source": [
    "# Define a function to check and update service providers based on phone number patterns\n",
    "def glo_phone_number_label(row):\n",
    "    phone_number = str(row['label_no'])\n",
    "    if phone_number.startswith(('0705', '0805', '0807', '0814', '0811', '0815', '0905', '0915')):\n",
    "        return 'GLO'\n",
    "    return row['name']\n",
    "\n",
    "# Apply the mtn_phone_number_label function to the DataFrame\n",
    "mobiledata['name'] = mobiledata.apply(glo_phone_number_label, axis=1)"
   ]
  },
  {
   "cell_type": "code",
   "execution_count": 21,
   "metadata": {},
   "outputs": [],
   "source": [
    "# Define a function to filter phone numbers\n",
    "def filter_phone_numbers(phone_number):\n",
    "    return (len(phone_number) == 11) and (not phone_number.startswith('+'))\n",
    "\n",
    "# Apply the function to filter the DataFrame\n",
    "mobiledata = mobiledata[mobiledata['label_no'].apply(filter_phone_numbers)]"
   ]
  },
  {
   "cell_type": "code",
   "execution_count": 22,
   "metadata": {},
   "outputs": [],
   "source": [
    "# Define a function to filter rows\n",
    "def filter_phone_numbers(row):\n",
    "    phone_number = row['label_no']\n",
    "    return all(char.isdigit() or char.isspace() or char in (',', '.', '-', '+') for char in phone_number)\n",
    "\n",
    "# Apply the filter to the DataFrame\n",
    "mobiledata = mobiledata[mobiledata.apply(filter_phone_numbers, axis=1)]"
   ]
  },
  {
   "cell_type": "code",
   "execution_count": 23,
   "metadata": {},
   "outputs": [],
   "source": [
    "# mobiledata = mobiledata.drop(13305)"
   ]
  },
  {
   "cell_type": "code",
   "execution_count": 24,
   "metadata": {},
   "outputs": [],
   "source": [
    "# Filter and keep rows where 'PhoneNumber' starts with '0'\n",
    "mobiledata = mobiledata[mobiledata['label_no'].str.startswith('0')]\n",
    "\n",
    "# Reset the index to have continuous integer values\n",
    "mobiledata = mobiledata.reset_index(drop=True)"
   ]
  },
  {
   "cell_type": "code",
   "execution_count": 25,
   "metadata": {},
   "outputs": [
    {
     "data": {
      "text/html": [
       "<div>\n",
       "<style scoped>\n",
       "    .dataframe tbody tr th:only-of-type {\n",
       "        vertical-align: middle;\n",
       "    }\n",
       "\n",
       "    .dataframe tbody tr th {\n",
       "        vertical-align: top;\n",
       "    }\n",
       "\n",
       "    .dataframe thead th {\n",
       "        text-align: right;\n",
       "    }\n",
       "</style>\n",
       "<table border=\"1\" class=\"dataframe\">\n",
       "  <thead>\n",
       "    <tr style=\"text-align: right;\">\n",
       "      <th></th>\n",
       "      <th>label_no</th>\n",
       "      <th>name</th>\n",
       "      <th>biller_category_id</th>\n",
       "    </tr>\n",
       "  </thead>\n",
       "  <tbody>\n",
       "  </tbody>\n",
       "</table>\n",
       "</div>"
      ],
      "text/plain": [
       "Empty DataFrame\n",
       "Columns: [label_no, name, biller_category_id]\n",
       "Index: []"
      ]
     },
     "execution_count": 25,
     "metadata": {},
     "output_type": "execute_result"
    }
   ],
   "source": [
    "none_number = mobiledata[mobiledata['label_no'].str[:2] == '00']\n",
    "none_number"
   ]
  },
  {
   "cell_type": "code",
   "execution_count": 26,
   "metadata": {},
   "outputs": [
    {
     "ename": "KeyError",
     "evalue": "'[7929, 19075] not found in axis'",
     "output_type": "error",
     "traceback": [
      "\u001b[0;31m---------------------------------------------------------------------------\u001b[0m",
      "\u001b[0;31mKeyError\u001b[0m                                  Traceback (most recent call last)",
      "\u001b[1;32m/home/lordmax/Downloads/machine-learning-projects/Vale Work Projects/service-provider-classification-with-fastapi/notebook/cleaning_and_labelling.ipynb Cell 26\u001b[0m line \u001b[0;36m2\n\u001b[1;32m      <a href='vscode-notebook-cell:/home/lordmax/Downloads/machine-learning-projects/Vale%20Work%20Projects/service-provider-classification-with-fastapi/notebook/cleaning_and_labelling.ipynb#X34sZmlsZQ%3D%3D?line=0'>1</a>\u001b[0m row_to_remove \u001b[39m=\u001b[39m [\u001b[39m7929\u001b[39m, \u001b[39m19075\u001b[39m]\n\u001b[0;32m----> <a href='vscode-notebook-cell:/home/lordmax/Downloads/machine-learning-projects/Vale%20Work%20Projects/service-provider-classification-with-fastapi/notebook/cleaning_and_labelling.ipynb#X34sZmlsZQ%3D%3D?line=1'>2</a>\u001b[0m mobiledata \u001b[39m=\u001b[39m mobiledata\u001b[39m.\u001b[39;49mdrop(row_to_remove)\n",
      "File \u001b[0;32m~/.virtualenvs/providerenv/lib/python3.10/site-packages/pandas/core/frame.py:5347\u001b[0m, in \u001b[0;36mDataFrame.drop\u001b[0;34m(self, labels, axis, index, columns, level, inplace, errors)\u001b[0m\n\u001b[1;32m   5199\u001b[0m \u001b[39mdef\u001b[39;00m \u001b[39mdrop\u001b[39m(\n\u001b[1;32m   5200\u001b[0m     \u001b[39mself\u001b[39m,\n\u001b[1;32m   5201\u001b[0m     labels: IndexLabel \u001b[39m|\u001b[39m \u001b[39mNone\u001b[39;00m \u001b[39m=\u001b[39m \u001b[39mNone\u001b[39;00m,\n\u001b[0;32m   (...)\u001b[0m\n\u001b[1;32m   5208\u001b[0m     errors: IgnoreRaise \u001b[39m=\u001b[39m \u001b[39m\"\u001b[39m\u001b[39mraise\u001b[39m\u001b[39m\"\u001b[39m,\n\u001b[1;32m   5209\u001b[0m ) \u001b[39m-\u001b[39m\u001b[39m>\u001b[39m DataFrame \u001b[39m|\u001b[39m \u001b[39mNone\u001b[39;00m:\n\u001b[1;32m   5210\u001b[0m \u001b[39m    \u001b[39m\u001b[39m\"\"\"\u001b[39;00m\n\u001b[1;32m   5211\u001b[0m \u001b[39m    Drop specified labels from rows or columns.\u001b[39;00m\n\u001b[1;32m   5212\u001b[0m \n\u001b[0;32m   (...)\u001b[0m\n\u001b[1;32m   5345\u001b[0m \u001b[39m            weight  1.0     0.8\u001b[39;00m\n\u001b[1;32m   5346\u001b[0m \u001b[39m    \"\"\"\u001b[39;00m\n\u001b[0;32m-> 5347\u001b[0m     \u001b[39mreturn\u001b[39;00m \u001b[39msuper\u001b[39;49m()\u001b[39m.\u001b[39;49mdrop(\n\u001b[1;32m   5348\u001b[0m         labels\u001b[39m=\u001b[39;49mlabels,\n\u001b[1;32m   5349\u001b[0m         axis\u001b[39m=\u001b[39;49maxis,\n\u001b[1;32m   5350\u001b[0m         index\u001b[39m=\u001b[39;49mindex,\n\u001b[1;32m   5351\u001b[0m         columns\u001b[39m=\u001b[39;49mcolumns,\n\u001b[1;32m   5352\u001b[0m         level\u001b[39m=\u001b[39;49mlevel,\n\u001b[1;32m   5353\u001b[0m         inplace\u001b[39m=\u001b[39;49minplace,\n\u001b[1;32m   5354\u001b[0m         errors\u001b[39m=\u001b[39;49merrors,\n\u001b[1;32m   5355\u001b[0m     )\n",
      "File \u001b[0;32m~/.virtualenvs/providerenv/lib/python3.10/site-packages/pandas/core/generic.py:4711\u001b[0m, in \u001b[0;36mNDFrame.drop\u001b[0;34m(self, labels, axis, index, columns, level, inplace, errors)\u001b[0m\n\u001b[1;32m   4709\u001b[0m \u001b[39mfor\u001b[39;00m axis, labels \u001b[39min\u001b[39;00m axes\u001b[39m.\u001b[39mitems():\n\u001b[1;32m   4710\u001b[0m     \u001b[39mif\u001b[39;00m labels \u001b[39mis\u001b[39;00m \u001b[39mnot\u001b[39;00m \u001b[39mNone\u001b[39;00m:\n\u001b[0;32m-> 4711\u001b[0m         obj \u001b[39m=\u001b[39m obj\u001b[39m.\u001b[39;49m_drop_axis(labels, axis, level\u001b[39m=\u001b[39;49mlevel, errors\u001b[39m=\u001b[39;49merrors)\n\u001b[1;32m   4713\u001b[0m \u001b[39mif\u001b[39;00m inplace:\n\u001b[1;32m   4714\u001b[0m     \u001b[39mself\u001b[39m\u001b[39m.\u001b[39m_update_inplace(obj)\n",
      "File \u001b[0;32m~/.virtualenvs/providerenv/lib/python3.10/site-packages/pandas/core/generic.py:4753\u001b[0m, in \u001b[0;36mNDFrame._drop_axis\u001b[0;34m(self, labels, axis, level, errors, only_slice)\u001b[0m\n\u001b[1;32m   4751\u001b[0m         new_axis \u001b[39m=\u001b[39m axis\u001b[39m.\u001b[39mdrop(labels, level\u001b[39m=\u001b[39mlevel, errors\u001b[39m=\u001b[39merrors)\n\u001b[1;32m   4752\u001b[0m     \u001b[39melse\u001b[39;00m:\n\u001b[0;32m-> 4753\u001b[0m         new_axis \u001b[39m=\u001b[39m axis\u001b[39m.\u001b[39;49mdrop(labels, errors\u001b[39m=\u001b[39;49merrors)\n\u001b[1;32m   4754\u001b[0m     indexer \u001b[39m=\u001b[39m axis\u001b[39m.\u001b[39mget_indexer(new_axis)\n\u001b[1;32m   4756\u001b[0m \u001b[39m# Case for non-unique axis\u001b[39;00m\n\u001b[1;32m   4757\u001b[0m \u001b[39melse\u001b[39;00m:\n",
      "File \u001b[0;32m~/.virtualenvs/providerenv/lib/python3.10/site-packages/pandas/core/indexes/base.py:6992\u001b[0m, in \u001b[0;36mIndex.drop\u001b[0;34m(self, labels, errors)\u001b[0m\n\u001b[1;32m   6990\u001b[0m \u001b[39mif\u001b[39;00m mask\u001b[39m.\u001b[39many():\n\u001b[1;32m   6991\u001b[0m     \u001b[39mif\u001b[39;00m errors \u001b[39m!=\u001b[39m \u001b[39m\"\u001b[39m\u001b[39mignore\u001b[39m\u001b[39m\"\u001b[39m:\n\u001b[0;32m-> 6992\u001b[0m         \u001b[39mraise\u001b[39;00m \u001b[39mKeyError\u001b[39;00m(\u001b[39mf\u001b[39m\u001b[39m\"\u001b[39m\u001b[39m{\u001b[39;00mlabels[mask]\u001b[39m.\u001b[39mtolist()\u001b[39m}\u001b[39;00m\u001b[39m not found in axis\u001b[39m\u001b[39m\"\u001b[39m)\n\u001b[1;32m   6993\u001b[0m     indexer \u001b[39m=\u001b[39m indexer[\u001b[39m~\u001b[39mmask]\n\u001b[1;32m   6994\u001b[0m \u001b[39mreturn\u001b[39;00m \u001b[39mself\u001b[39m\u001b[39m.\u001b[39mdelete(indexer)\n",
      "\u001b[0;31mKeyError\u001b[0m: '[7929, 19075] not found in axis'"
     ]
    }
   ],
   "source": [
    "row_to_remove = [7929, 19075]\n",
    "mobiledata = mobiledata.drop(row_to_remove)"
   ]
  },
  {
   "cell_type": "code",
   "execution_count": null,
   "metadata": {},
   "outputs": [
    {
     "data": {
      "text/html": [
       "<div>\n",
       "<style scoped>\n",
       "    .dataframe tbody tr th:only-of-type {\n",
       "        vertical-align: middle;\n",
       "    }\n",
       "\n",
       "    .dataframe tbody tr th {\n",
       "        vertical-align: top;\n",
       "    }\n",
       "\n",
       "    .dataframe thead th {\n",
       "        text-align: right;\n",
       "    }\n",
       "</style>\n",
       "<table border=\"1\" class=\"dataframe\">\n",
       "  <thead>\n",
       "    <tr style=\"text-align: right;\">\n",
       "      <th></th>\n",
       "      <th>label_no</th>\n",
       "      <th>name</th>\n",
       "      <th>biller_category_id</th>\n",
       "    </tr>\n",
       "  </thead>\n",
       "  <tbody>\n",
       "  </tbody>\n",
       "</table>\n",
       "</div>"
      ],
      "text/plain": [
       "Empty DataFrame\n",
       "Columns: [label_no, name, biller_category_id]\n",
       "Index: []"
      ]
     },
     "execution_count": 37,
     "metadata": {},
     "output_type": "execute_result"
    }
   ],
   "source": [
    "mobiledata[mobiledata['name'] == 'MTN Top up']"
   ]
  },
  {
   "cell_type": "code",
   "execution_count": null,
   "metadata": {},
   "outputs": [
    {
     "data": {
      "text/html": [
       "<div>\n",
       "<style scoped>\n",
       "    .dataframe tbody tr th:only-of-type {\n",
       "        vertical-align: middle;\n",
       "    }\n",
       "\n",
       "    .dataframe tbody tr th {\n",
       "        vertical-align: top;\n",
       "    }\n",
       "\n",
       "    .dataframe thead th {\n",
       "        text-align: right;\n",
       "    }\n",
       "</style>\n",
       "<table border=\"1\" class=\"dataframe\">\n",
       "  <thead>\n",
       "    <tr style=\"text-align: right;\">\n",
       "      <th></th>\n",
       "      <th>label_no</th>\n",
       "      <th>name</th>\n",
       "      <th>biller_category_id</th>\n",
       "    </tr>\n",
       "  </thead>\n",
       "  <tbody>\n",
       "  </tbody>\n",
       "</table>\n",
       "</div>"
      ],
      "text/plain": [
       "Empty DataFrame\n",
       "Columns: [label_no, name, biller_category_id]\n",
       "Index: []"
      ]
     },
     "execution_count": 41,
     "metadata": {},
     "output_type": "execute_result"
    }
   ],
   "source": [
    "rare_number = mobiledata[mobiledata['label_no'].str[:4] == '0709']\n",
    "rare_number"
   ]
  },
  {
   "cell_type": "code",
   "execution_count": null,
   "metadata": {},
   "outputs": [],
   "source": [
    "mobiledata = mobiledata.drop(13305)"
   ]
  },
  {
   "cell_type": "code",
   "execution_count": null,
   "metadata": {},
   "outputs": [
    {
     "data": {
      "text/plain": [
       "array(['GLO', 'MTN', 'AIRTEL', '9MOBILE', 'GOtv Jolli Bouquet',\n",
       "       '1GB Weekly Plan + FREE 1GB for YouTube and 100MB for YouTube Music + 5mins.',\n",
       "       'Nova - One Month', 'Classic - One Day', 'Prepaid',\n",
       "       'GOtv Jinja Bouquet', 'Compact', 'Specify Amount', 'Top up',\n",
       "       'GOtv Smallie - quarterly', 'GOtv Max', '9Mobile Top up',\n",
       "       'GOtv Smallie - monthly', 'Ikeja Electric Prepaid',\n",
       "       '1GB Daily Plan + 3mins.', 'Basic - One Week', 'Meter Token',\n",
       "       'Top up with any amount', 'N1500= 4.1 GB 30 Days',\n",
       "       'Diamond (550GB FUP Monthly Unlimited) (N60000)',\n",
       "       'N2,100 for calls, SMS &amp; data (7 days)'], dtype=object)"
      ]
     },
     "execution_count": 40,
     "metadata": {},
     "output_type": "execute_result"
    }
   ],
   "source": [
    "mobiledata.name.unique()"
   ]
  },
  {
   "cell_type": "code",
   "execution_count": null,
   "metadata": {},
   "outputs": [],
   "source": [
    "# removing inconsistent criteria\n",
    "irrelevant_labels = ['GOtv Jolli Bouquet',\n",
    "       '1GB Weekly Plan + FREE 1GB for YouTube and 100MB for YouTube Music + 5mins.',\n",
    "       'Nova - One Month', 'Classic - One Day', 'Prepaid',\n",
    "       'GOtv Jinja Bouquet', 'Compact', 'Specify Amount', 'Top up',\n",
    "       'GOtv Smallie - quarterly', 'GOtv Max', '9Mobile Top up',\n",
    "       'GOtv Smallie - monthly', 'Ikeja Electric Prepaid',\n",
    "       '1GB Daily Plan + 3mins.', 'Basic - One Week', 'Meter Token',\n",
    "       'Top up with any amount', 'N1500= 4.1 GB 30 Days',\n",
    "       'Diamond (550GB FUP Monthly Unlimited) (N60000)',\n",
    "       'N2,100 for calls, SMS &amp; data (7 days)']\n",
    "\n",
    "# filter and keep rows with consistent name labels\n",
    "mobiledata = mobiledata[~mobiledata['name'].isin(irrelevant_labels)]\n",
    "# resetting the index\n",
    "mobiledata = mobiledata.reset_index(drop=True)\n"
   ]
  },
  {
   "cell_type": "code",
   "execution_count": null,
   "metadata": {},
   "outputs": [],
   "source": [
    "mobiledata = mobiledata.drop('biller_category_id', axis=1)"
   ]
  },
  {
   "cell_type": "code",
   "execution_count": null,
   "metadata": {},
   "outputs": [
    {
     "data": {
      "text/html": [
       "<div>\n",
       "<style scoped>\n",
       "    .dataframe tbody tr th:only-of-type {\n",
       "        vertical-align: middle;\n",
       "    }\n",
       "\n",
       "    .dataframe tbody tr th {\n",
       "        vertical-align: top;\n",
       "    }\n",
       "\n",
       "    .dataframe thead th {\n",
       "        text-align: right;\n",
       "    }\n",
       "</style>\n",
       "<table border=\"1\" class=\"dataframe\">\n",
       "  <thead>\n",
       "    <tr style=\"text-align: right;\">\n",
       "      <th></th>\n",
       "      <th>label_no</th>\n",
       "      <th>name</th>\n",
       "    </tr>\n",
       "  </thead>\n",
       "  <tbody>\n",
       "    <tr>\n",
       "      <th>0</th>\n",
       "      <td>08059224942</td>\n",
       "      <td>GLO</td>\n",
       "    </tr>\n",
       "    <tr>\n",
       "      <th>1</th>\n",
       "      <td>08142358593</td>\n",
       "      <td>MTN</td>\n",
       "    </tr>\n",
       "    <tr>\n",
       "      <th>2</th>\n",
       "      <td>08142358593</td>\n",
       "      <td>MTN</td>\n",
       "    </tr>\n",
       "    <tr>\n",
       "      <th>3</th>\n",
       "      <td>08148252331</td>\n",
       "      <td>MTN</td>\n",
       "    </tr>\n",
       "    <tr>\n",
       "      <th>4</th>\n",
       "      <td>08142358593</td>\n",
       "      <td>MTN</td>\n",
       "    </tr>\n",
       "    <tr>\n",
       "      <th>...</th>\n",
       "      <td>...</td>\n",
       "      <td>...</td>\n",
       "    </tr>\n",
       "    <tr>\n",
       "      <th>23149</th>\n",
       "      <td>08034268185</td>\n",
       "      <td>MTN</td>\n",
       "    </tr>\n",
       "    <tr>\n",
       "      <th>23150</th>\n",
       "      <td>08064995656</td>\n",
       "      <td>MTN</td>\n",
       "    </tr>\n",
       "    <tr>\n",
       "      <th>23151</th>\n",
       "      <td>08058595159</td>\n",
       "      <td>GLO</td>\n",
       "    </tr>\n",
       "    <tr>\n",
       "      <th>23152</th>\n",
       "      <td>07039069136</td>\n",
       "      <td>MTN</td>\n",
       "    </tr>\n",
       "    <tr>\n",
       "      <th>23153</th>\n",
       "      <td>09078754424</td>\n",
       "      <td>AIRTEL</td>\n",
       "    </tr>\n",
       "  </tbody>\n",
       "</table>\n",
       "<p>23154 rows × 2 columns</p>\n",
       "</div>"
      ],
      "text/plain": [
       "          label_no    name\n",
       "0      08059224942     GLO\n",
       "1      08142358593     MTN\n",
       "2      08142358593     MTN\n",
       "3      08148252331     MTN\n",
       "4      08142358593     MTN\n",
       "...            ...     ...\n",
       "23149  08034268185     MTN\n",
       "23150  08064995656     MTN\n",
       "23151  08058595159     GLO\n",
       "23152  07039069136     MTN\n",
       "23153  09078754424  AIRTEL\n",
       "\n",
       "[23154 rows x 2 columns]"
      ]
     },
     "execution_count": 66,
     "metadata": {},
     "output_type": "execute_result"
    }
   ],
   "source": [
    "mobiledata"
   ]
  },
  {
   "cell_type": "code",
   "execution_count": null,
   "metadata": {},
   "outputs": [],
   "source": [
    "mobiledata = mobiledata.rename(columns={'label_no': 'Telephone Number', 'name': 'Service Provider'})"
   ]
  },
  {
   "cell_type": "code",
   "execution_count": null,
   "metadata": {},
   "outputs": [
    {
     "data": {
      "text/html": [
       "<div>\n",
       "<style scoped>\n",
       "    .dataframe tbody tr th:only-of-type {\n",
       "        vertical-align: middle;\n",
       "    }\n",
       "\n",
       "    .dataframe tbody tr th {\n",
       "        vertical-align: top;\n",
       "    }\n",
       "\n",
       "    .dataframe thead th {\n",
       "        text-align: right;\n",
       "    }\n",
       "</style>\n",
       "<table border=\"1\" class=\"dataframe\">\n",
       "  <thead>\n",
       "    <tr style=\"text-align: right;\">\n",
       "      <th></th>\n",
       "      <th>Telephone Number</th>\n",
       "      <th>Service Provider</th>\n",
       "    </tr>\n",
       "  </thead>\n",
       "  <tbody>\n",
       "    <tr>\n",
       "      <th>0</th>\n",
       "      <td>08059224942</td>\n",
       "      <td>GLO</td>\n",
       "    </tr>\n",
       "    <tr>\n",
       "      <th>1</th>\n",
       "      <td>08142358593</td>\n",
       "      <td>MTN</td>\n",
       "    </tr>\n",
       "    <tr>\n",
       "      <th>2</th>\n",
       "      <td>08142358593</td>\n",
       "      <td>MTN</td>\n",
       "    </tr>\n",
       "    <tr>\n",
       "      <th>3</th>\n",
       "      <td>08148252331</td>\n",
       "      <td>MTN</td>\n",
       "    </tr>\n",
       "    <tr>\n",
       "      <th>4</th>\n",
       "      <td>08142358593</td>\n",
       "      <td>MTN</td>\n",
       "    </tr>\n",
       "    <tr>\n",
       "      <th>...</th>\n",
       "      <td>...</td>\n",
       "      <td>...</td>\n",
       "    </tr>\n",
       "    <tr>\n",
       "      <th>23149</th>\n",
       "      <td>08034268185</td>\n",
       "      <td>MTN</td>\n",
       "    </tr>\n",
       "    <tr>\n",
       "      <th>23150</th>\n",
       "      <td>08064995656</td>\n",
       "      <td>MTN</td>\n",
       "    </tr>\n",
       "    <tr>\n",
       "      <th>23151</th>\n",
       "      <td>08058595159</td>\n",
       "      <td>GLO</td>\n",
       "    </tr>\n",
       "    <tr>\n",
       "      <th>23152</th>\n",
       "      <td>07039069136</td>\n",
       "      <td>MTN</td>\n",
       "    </tr>\n",
       "    <tr>\n",
       "      <th>23153</th>\n",
       "      <td>09078754424</td>\n",
       "      <td>AIRTEL</td>\n",
       "    </tr>\n",
       "  </tbody>\n",
       "</table>\n",
       "<p>23154 rows × 2 columns</p>\n",
       "</div>"
      ],
      "text/plain": [
       "      Telephone Number Service Provider\n",
       "0          08059224942              GLO\n",
       "1          08142358593              MTN\n",
       "2          08142358593              MTN\n",
       "3          08148252331              MTN\n",
       "4          08142358593              MTN\n",
       "...                ...              ...\n",
       "23149      08034268185              MTN\n",
       "23150      08064995656              MTN\n",
       "23151      08058595159              GLO\n",
       "23152      07039069136              MTN\n",
       "23153      09078754424           AIRTEL\n",
       "\n",
       "[23154 rows x 2 columns]"
      ]
     },
     "execution_count": 69,
     "metadata": {},
     "output_type": "execute_result"
    }
   ],
   "source": [
    "mobiledata"
   ]
  },
  {
   "cell_type": "code",
   "execution_count": null,
   "metadata": {},
   "outputs": [],
   "source": [
    "mobiledata.to_csv('service_provider_pnumber_label.csv', index=True)"
   ]
  },
  {
   "cell_type": "code",
   "execution_count": null,
   "metadata": {},
   "outputs": [],
   "source": [
    "|"
   ]
  }
 ],
 "metadata": {
  "kernelspec": {
   "display_name": "Python 3",
   "language": "python",
   "name": "python3"
  },
  "language_info": {
   "codemirror_mode": {
    "name": "ipython",
    "version": 3
   },
   "file_extension": ".py",
   "mimetype": "text/x-python",
   "name": "python",
   "nbconvert_exporter": "python",
   "pygments_lexer": "ipython3",
   "version": "3.10.13"
  },
  "orig_nbformat": 4
 },
 "nbformat": 4,
 "nbformat_minor": 2
}
